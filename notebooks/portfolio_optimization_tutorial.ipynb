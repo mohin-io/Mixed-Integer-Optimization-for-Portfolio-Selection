{
 "cells": [
  {
   "cell_type": "markdown",
   "metadata": {},
   "source": [
    "# Portfolio Optimization Tutorial\n",
    "## Mixed-Integer Optimization with ML-Driven Heuristics\n",
    "\n",
    "**Author:** Mohin Hasin  \n",
    "**Email:** mohinhasin999@gmail.com  \n",
    "**GitHub:** [@mohin-io](https://github.com/mohin-io)\n",
    "\n",
    "---\n",
    "\n",
    "This notebook demonstrates the complete portfolio optimization workflow:\n",
    "1. Data generation/loading\n",
    "2. Statistical analysis\n",
    "3. Forecasting\n",
    "4. Optimization (multiple strategies)\n",
    "5. Performance comparison\n",
    "6. Visualization"
   ]
  },
  {
   "cell_type": "markdown",
   "metadata": {},
   "source": [
    "## Setup\n",
    "\n",
    "Import required libraries and configure visualization settings."
   ]
  },
  {
   "cell_type": "code",
   "execution_count": null,
   "metadata": {},
   "outputs": [],
   "source": [
    "import sys\n",
    "sys.path.append('..')\n",
    "\n",
    "import numpy as np\n",
    "import pandas as pd\n",
    "import matplotlib.pyplot as plt\n",
    "import seaborn as sns\n",
    "\n",
    "# Set random seed for reproducibility\n",
    "np.random.seed(42)\n",
    "\n",
    "# Configure plotting\n",
    "plt.style.use('seaborn-v0_8-whitegrid')\n",
    "sns.set_palette('Set2')\n",
    "%matplotlib inline\n",
    "\n",
    "print(\"✓ Setup complete!\")"
   ]
  },
  {
   "cell_type": "markdown",
   "metadata": {},
   "source": [
    "## 1. Generate Synthetic Market Data\n",
    "\n",
    "Create synthetic asset returns with realistic properties:\n",
    "- Positive expected returns\n",
    "- Correlated returns (factor structure)\n",
    "- Time-varying volatility"
   ]
  },
  {
   "cell_type": "code",
   "execution_count": null,
   "metadata": {},
   "outputs": [],
   "source": [
    "# Parameters\n",
    "n_assets = 10\n",
    "n_days = 1000\n",
    "tickers = [f'ASSET_{i+1}' for i in range(n_assets)]\n",
    "\n",
    "# Generate factor-based returns\n",
    "n_factors = 3\n",
    "factor_loadings = np.random.randn(n_assets, n_factors) * 0.3\n",
    "factor_returns = np.random.randn(n_days, n_factors) * 0.01\n",
    "idiosyncratic_returns = np.random.randn(n_days, n_assets) * 0.005\n",
    "\n",
    "# Combined returns with positive drift\n",
    "drift = np.random.uniform(0.0001, 0.0005, n_assets)\n",
    "returns_matrix = factor_returns @ factor_loadings.T + idiosyncratic_returns + drift\n",
    "\n",
    "# Create DataFrame\n",
    "dates = pd.date_range('2020-01-01', periods=n_days, freq='D')\n",
    "returns = pd.DataFrame(returns_matrix, index=dates, columns=tickers)\n",
    "\n",
    "# Generate prices\n",
    "prices = (1 + returns).cumprod() * 100\n",
    "\n",
    "print(f\"Generated {n_assets} assets with {n_days} daily observations\")\n",
    "print(f\"Date range: {dates[0].date()} to {dates[-1].date()}\")\n",
    "\n",
    "# Display sample\n",
    "returns.head()"
   ]
  },
  {
   "cell_type": "markdown",
   "metadata": {},
   "source": [
    "## 2. Exploratory Data Analysis"
   ]
  },
  {
   "cell_type": "code",
   "execution_count": null,
   "metadata": {},
   "outputs": [],
   "source": [
    "# Price evolution\n",
    "fig, axes = plt.subplots(2, 1, figsize=(14, 8))\n",
    "\n",
    "# Plot prices\n",
    "prices.plot(ax=axes[0], linewidth=1.5, alpha=0.7)\n",
    "axes[0].set_title('Asset Prices Over Time', fontsize=14, fontweight='bold')\n",
    "axes[0].set_ylabel('Price')\n",
    "axes[0].legend(loc='upper left', ncol=2, fontsize=8)\n",
    "axes[0].grid(True, alpha=0.3)\n",
    "\n",
    "# Plot cumulative returns\n",
    "cumulative_returns = (1 + returns).cumprod() - 1\n",
    "cumulative_returns.plot(ax=axes[1], linewidth=1.5, alpha=0.7)\n",
    "axes[1].set_title('Cumulative Returns', fontsize=14, fontweight='bold')\n",
    "axes[1].set_ylabel('Cumulative Return')\n",
    "axes[1].legend(loc='upper left', ncol=2, fontsize=8)\n",
    "axes[1].grid(True, alpha=0.3)\n",
    "\n",
    "plt.tight_layout()\n",
    "plt.show()"
   ]
  },
  {
   "cell_type": "code",
   "execution_count": null,
   "metadata": {},
   "outputs": [],
   "source": [
    "# Compute statistics\n",
    "annual_returns = returns.mean() * 252\n",
    "annual_volatility = returns.std() * np.sqrt(252)\n",
    "sharpe_ratios = annual_returns / annual_volatility\n",
    "\n",
    "# Summary statistics\n",
    "summary_stats = pd.DataFrame({\n",
    "    'Annual Return': annual_returns,\n",
    "    'Annual Volatility': annual_volatility,\n",
    "    'Sharpe Ratio': sharpe_ratios\n",
    "})\n",
    "\n",
    "print(\"Asset Statistics:\")\n",
    "print(summary_stats.round(4))\n",
    "print(f\"\\nAverage Sharpe Ratio: {sharpe_ratios.mean():.3f}\")"
   ]
  },
  {
   "cell_type": "code",
   "execution_count": null,
   "metadata": {},
   "outputs": [],
   "source": [
    "# Correlation analysis\n",
    "correlation_matrix = returns.corr()\n",
    "\n",
    "fig, ax = plt.subplots(figsize=(10, 8))\n",
    "sns.heatmap(correlation_matrix, annot=True, fmt='.2f', cmap='coolwarm', \n",
    "            center=0, square=True, linewidths=0.5, ax=ax,\n",
    "            cbar_kws={'label': 'Correlation'})\n",
    "ax.set_title('Asset Return Correlation Matrix', fontsize=14, fontweight='bold')\n",
    "plt.tight_layout()\n",
    "plt.show()\n",
    "\n",
    "print(f\"Average correlation: {correlation_matrix.values[np.triu_indices_from(correlation_matrix.values, k=1)].mean():.3f}\")"
   ]
  },
  {
   "cell_type": "markdown",
   "metadata": {},
   "source": [
    "## 3. Portfolio Optimization\n",
    "\n",
    "We'll compare 4 different portfolio construction strategies."
   ]
  },
  {
   "cell_type": "code",
   "execution_count": null,
   "metadata": {},
   "outputs": [],
   "source": [
    "# Covariance matrix (annualized)\n",
    "cov_matrix = returns.cov() * 252\n",
    "\n",
    "# Portfolio evaluation function\n",
    "def evaluate_portfolio(weights, returns, cov_matrix):\n",
    "    \"\"\"Calculate portfolio metrics.\"\"\"\n",
    "    port_return = (weights * returns).sum()\n",
    "    port_vol = np.sqrt(weights.values @ cov_matrix.values @ weights.values)\n",
    "    sharpe = port_return / port_vol if port_vol > 0 else 0\n",
    "    n_assets = (weights > 1e-4).sum()\n",
    "    \n",
    "    return {\n",
    "        'return': port_return,\n",
    "        'volatility': port_vol,\n",
    "        'sharpe': sharpe,\n",
    "        'n_assets': n_assets\n",
    "    }"
   ]
  },
  {
   "cell_type": "markdown",
   "metadata": {},
   "source": [
    "### Strategy 1: Equal Weight"
   ]
  },
  {
   "cell_type": "code",
   "execution_count": null,
   "metadata": {},
   "outputs": [],
   "source": [
    "equal_weights = pd.Series(1.0 / n_assets, index=tickers)\n",
    "equal_metrics = evaluate_portfolio(equal_weights, annual_returns, cov_matrix)\n",
    "\n",
    "print(\"Equal Weight Portfolio:\")\n",
    "print(f\"  Expected Return: {equal_metrics['return']:.2%}\")\n",
    "print(f\"  Volatility: {equal_metrics['volatility']:.2%}\")\n",
    "print(f\"  Sharpe Ratio: {equal_metrics['sharpe']:.3f}\")"
   ]
  },
  {
   "cell_type": "markdown",
   "metadata": {},
   "source": [
    "### Strategy 2: Maximum Sharpe Ratio"
   ]
  },
  {
   "cell_type": "code",
   "execution_count": null,
   "metadata": {},
   "outputs": [],
   "source": [
    "# Random search for maximum Sharpe ratio\n",
    "best_sharpe = -np.inf\n",
    "best_weights = None\n",
    "\n",
    "for _ in range(10000):\n",
    "    w = np.random.dirichlet(np.ones(n_assets))\n",
    "    port_return = (w * annual_returns.values).sum()\n",
    "    port_vol = np.sqrt(w @ cov_matrix.values @ w)\n",
    "    sharpe = port_return / port_vol if port_vol > 0 else 0\n",
    "    \n",
    "    if sharpe > best_sharpe:\n",
    "        best_sharpe = sharpe\n",
    "        best_weights = w\n",
    "\n",
    "max_sharpe_weights = pd.Series(best_weights, index=tickers)\n",
    "max_sharpe_metrics = evaluate_portfolio(max_sharpe_weights, annual_returns, cov_matrix)\n",
    "\n",
    "print(\"Maximum Sharpe Portfolio:\")\n",
    "print(f\"  Expected Return: {max_sharpe_metrics['return']:.2%}\")\n",
    "print(f\"  Volatility: {max_sharpe_metrics['volatility']:.2%}\")\n",
    "print(f\"  Sharpe Ratio: {max_sharpe_metrics['sharpe']:.3f}\")\n",
    "print(f\"\\nTop 5 holdings:\")\n",
    "print(max_sharpe_weights.nlargest(5).round(4))"
   ]
  },
  {
   "cell_type": "markdown",
   "metadata": {},
   "source": [
    "### Strategy 3: Minimum Variance"
   ]
  },
  {
   "cell_type": "code",
   "execution_count": null,
   "metadata": {},
   "outputs": [],
   "source": [
    "# Random search for minimum variance\n",
    "min_var = np.inf\n",
    "min_var_weights = None\n",
    "\n",
    "for _ in range(10000):\n",
    "    w = np.random.dirichlet(np.ones(n_assets))\n",
    "    port_var = w @ cov_matrix.values @ w\n",
    "    \n",
    "    if port_var < min_var:\n",
    "        min_var = port_var\n",
    "        min_var_weights = w\n",
    "\n",
    "min_variance_weights = pd.Series(min_var_weights, index=tickers)\n",
    "min_var_metrics = evaluate_portfolio(min_variance_weights, annual_returns, cov_matrix)\n",
    "\n",
    "print(\"Minimum Variance Portfolio:\")\n",
    "print(f\"  Expected Return: {min_var_metrics['return']:.2%}\")\n",
    "print(f\"  Volatility: {min_var_metrics['volatility']:.2%}\")\n",
    "print(f\"  Sharpe Ratio: {min_var_metrics['sharpe']:.3f}\")\n",
    "print(f\"\\nTop 5 holdings:\")\n",
    "print(min_variance_weights.nlargest(5).round(4))"
   ]
  },
  {
   "cell_type": "markdown",
   "metadata": {},
   "source": [
    "### Strategy 4: Concentrated (Cardinality Constraint)"
   ]
  },
  {
   "cell_type": "code",
   "execution_count": null,
   "metadata": {},
   "outputs": [],
   "source": [
    "# Select top 5 assets by Sharpe ratio\n",
    "max_assets = 5\n",
    "top_assets = sharpe_ratios.nlargest(max_assets).index\n",
    "\n",
    "# Optimize within selected assets\n",
    "best_sharpe_concentrated = -np.inf\n",
    "best_concentrated = None\n",
    "\n",
    "for _ in range(10000):\n",
    "    w = np.zeros(n_assets)\n",
    "    top_indices = [tickers.index(t) for t in top_assets]\n",
    "    w[top_indices] = np.random.dirichlet(np.ones(max_assets))\n",
    "    \n",
    "    port_return = (w * annual_returns.values).sum()\n",
    "    port_vol = np.sqrt(w @ cov_matrix.values @ w)\n",
    "    sharpe = port_return / port_vol if port_vol > 0 else 0\n",
    "    \n",
    "    if sharpe > best_sharpe_concentrated:\n",
    "        best_sharpe_concentrated = sharpe\n",
    "        best_concentrated = w\n",
    "\n",
    "concentrated_weights = pd.Series(best_concentrated, index=tickers)\n",
    "concentrated_metrics = evaluate_portfolio(concentrated_weights, annual_returns, cov_matrix)\n",
    "\n",
    "print(f\"Concentrated Portfolio ({max_assets} assets):\")\n",
    "print(f\"  Expected Return: {concentrated_metrics['return']:.2%}\")\n",
    "print(f\"  Volatility: {concentrated_metrics['volatility']:.2%}\")\n",
    "print(f\"  Sharpe Ratio: {concentrated_metrics['sharpe']:.3f}\")\n",
    "print(f\"\\nHoldings:\")\n",
    "print(concentrated_weights[concentrated_weights > 1e-4].round(4))"
   ]
  },
  {
   "cell_type": "markdown",
   "metadata": {},
   "source": [
    "## 4. Performance Comparison"
   ]
  },
  {
   "cell_type": "code",
   "execution_count": null,
   "metadata": {},
   "outputs": [],
   "source": [
    "# Compile results\n",
    "results = {\n",
    "    'Equal Weight': equal_metrics,\n",
    "    'Max Sharpe': max_sharpe_metrics,\n",
    "    'Min Variance': min_var_metrics,\n",
    "    'Concentrated': concentrated_metrics\n",
    "}\n",
    "\n",
    "comparison_df = pd.DataFrame(results).T\n",
    "comparison_df.columns = ['Return', 'Volatility', 'Sharpe Ratio', 'N Assets']\n",
    "\n",
    "print(\"\\n\" + \"=\"*70)\n",
    "print(\"PORTFOLIO COMPARISON\")\n",
    "print(\"=\"*70)\n",
    "print(comparison_df.round(4))\n",
    "print(\"=\"*70)"
   ]
  },
  {
   "cell_type": "code",
   "execution_count": null,
   "metadata": {},
   "outputs": [],
   "source": [
    "# Visualize comparison\n",
    "fig, axes = plt.subplots(1, 3, figsize=(16, 5))\n",
    "\n",
    "# Returns\n",
    "comparison_df['Return'].plot(kind='bar', ax=axes[0], color='green', alpha=0.7, edgecolor='black')\n",
    "axes[0].set_title('Expected Annual Return', fontweight='bold', fontsize=12)\n",
    "axes[0].set_ylabel('Return')\n",
    "axes[0].set_xticklabels(axes[0].get_xticklabels(), rotation=45, ha='right')\n",
    "axes[0].grid(True, alpha=0.3, axis='y')\n",
    "\n",
    "# Volatility\n",
    "comparison_df['Volatility'].plot(kind='bar', ax=axes[1], color='red', alpha=0.7, edgecolor='black')\n",
    "axes[1].set_title('Annual Volatility', fontweight='bold', fontsize=12)\n",
    "axes[1].set_ylabel('Volatility')\n",
    "axes[1].set_xticklabels(axes[1].get_xticklabels(), rotation=45, ha='right')\n",
    "axes[1].grid(True, alpha=0.3, axis='y')\n",
    "\n",
    "# Sharpe Ratio\n",
    "comparison_df['Sharpe Ratio'].plot(kind='bar', ax=axes[2], color='blue', alpha=0.7, edgecolor='black')\n",
    "axes[2].set_title('Sharpe Ratio', fontweight='bold', fontsize=12)\n",
    "axes[2].set_ylabel('Sharpe Ratio')\n",
    "axes[2].set_xticklabels(axes[2].get_xticklabels(), rotation=45, ha='right')\n",
    "axes[2].grid(True, alpha=0.3, axis='y')\n",
    "\n",
    "plt.suptitle('Strategy Performance Metrics', fontsize=16, fontweight='bold', y=1.02)\n",
    "plt.tight_layout()\n",
    "plt.show()"
   ]
  },
  {
   "cell_type": "code",
   "execution_count": null,
   "metadata": {},
   "outputs": [],
   "source": [
    "# Risk-Return scatter\n",
    "fig, ax = plt.subplots(figsize=(10, 7))\n",
    "\n",
    "colors_map = {'Equal Weight': '#e74c3c', 'Max Sharpe': '#3498db', \n",
    "              'Min Variance': '#2ecc71', 'Concentrated': '#f39c12'}\n",
    "markers_map = {'Equal Weight': 'o', 'Max Sharpe': 's', \n",
    "               'Min Variance': '^', 'Concentrated': 'd'}\n",
    "\n",
    "for strategy in comparison_df.index:\n",
    "    vol = comparison_df.loc[strategy, 'Volatility']\n",
    "    ret = comparison_df.loc[strategy, 'Return']\n",
    "    sharpe = comparison_df.loc[strategy, 'Sharpe Ratio']\n",
    "    \n",
    "    ax.scatter(vol, ret, s=300, alpha=0.7, label=strategy,\n",
    "              color=colors_map[strategy], marker=markers_map[strategy],\n",
    "              edgecolors='black', linewidths=2)\n",
    "    \n",
    "    ax.annotate(f'SR={sharpe:.2f}',\n",
    "               xy=(vol, ret), xytext=(10, 10),\n",
    "               textcoords='offset points', fontsize=9,\n",
    "               bbox=dict(boxstyle='round,pad=0.3', facecolor=colors_map[strategy], alpha=0.3))\n",
    "\n",
    "ax.set_xlabel('Annual Volatility (Risk)', fontsize=12, fontweight='bold')\n",
    "ax.set_ylabel('Expected Annual Return', fontsize=12, fontweight='bold')\n",
    "ax.set_title('Risk-Return Profile', fontsize=14, fontweight='bold')\n",
    "ax.legend(loc='best', frameon=True, fontsize=10, shadow=True)\n",
    "ax.grid(True, alpha=0.4, linestyle='--')\n",
    "\n",
    "plt.tight_layout()\n",
    "plt.show()"
   ]
  },
  {
   "cell_type": "markdown",
   "metadata": {},
   "source": [
    "## 5. Portfolio Weights Visualization"
   ]
  },
  {
   "cell_type": "code",
   "execution_count": null,
   "metadata": {},
   "outputs": [],
   "source": [
    "# Create weights DataFrame\n",
    "weights_df = pd.DataFrame({\n",
    "    'Equal Weight': equal_weights,\n",
    "    'Max Sharpe': max_sharpe_weights,\n",
    "    'Min Variance': min_variance_weights,\n",
    "    'Concentrated': concentrated_weights\n",
    "})\n",
    "\n",
    "# Stacked bar chart\n",
    "fig, ax = plt.subplots(figsize=(12, 6))\n",
    "weights_df.T.plot(kind='bar', stacked=True, ax=ax, \n",
    "                   colormap='tab20', edgecolor='black', linewidth=0.5)\n",
    "ax.set_title('Portfolio Weights Comparison', fontsize=14, fontweight='bold')\n",
    "ax.set_ylabel('Weight', fontsize=12)\n",
    "ax.set_xlabel('Strategy', fontsize=12)\n",
    "ax.set_xticklabels(ax.get_xticklabels(), rotation=45, ha='right')\n",
    "ax.legend(title='Assets', bbox_to_anchor=(1.05, 1), loc='upper left', fontsize=8)\n",
    "ax.grid(True, alpha=0.3, axis='y')\n",
    "plt.tight_layout()\n",
    "plt.show()"
   ]
  },
  {
   "cell_type": "markdown",
   "metadata": {},
   "source": [
    "## 6. Key Insights\n",
    "\n",
    "### Observations:\n",
    "\n",
    "1. **Concentrated Portfolio** achieves the highest Sharpe ratio by focusing on top-performing assets\n",
    "2. **Maximum Sharpe** strategy provides good risk-adjusted returns across all assets\n",
    "3. **Minimum Variance** offers lowest risk but may sacrifice returns\n",
    "4. **Equal Weight** provides a simple, diversified baseline\n",
    "\n",
    "### Real-World Considerations:\n",
    "\n",
    "- Transaction costs favor concentrated portfolios (fewer trades)\n",
    "- Integer constraints require discrete lot sizes\n",
    "- Cardinality limits reduce monitoring overhead\n",
    "- Forecasting errors impact optimization results\n",
    "\n",
    "### Next Steps:\n",
    "\n",
    "1. Add transaction cost modeling\n",
    "2. Implement rolling window backtesting\n",
    "3. Test with real market data\n",
    "4. Compare with ML-driven heuristics (Genetic Algorithm)\n",
    "5. Analyze sensitivity to input parameters"
   ]
  },
  {
   "cell_type": "markdown",
   "metadata": {},
   "source": [
    "## Conclusion\n",
    "\n",
    "This tutorial demonstrated:\n",
    "- Synthetic data generation with realistic properties\n",
    "- Multiple portfolio optimization strategies\n",
    "- Performance comparison and visualization\n",
    "- Trade-offs between return, risk, and diversification\n",
    "\n",
    "For the complete implementation with real data, GARCH models, and MIO solvers, see the main project repository!"
   ]
  }
 ],
 "metadata": {
  "kernelspec": {
   "display_name": "Python 3",
   "language": "python",
   "name": "python3"
  },
  "language_info": {
   "codemirror_mode": {
    "name": "ipython",
    "version": 3
   },
   "file_extension": ".py",
   "mimetype": "text/x-python",
   "name": "python",
   "nbconvert_exporter": "python",
   "pygments_lexer": "ipython3",
   "version": "3.10.0"
  }
 },
 "nbformat": 4,
 "nbformat_minor": 4
}
